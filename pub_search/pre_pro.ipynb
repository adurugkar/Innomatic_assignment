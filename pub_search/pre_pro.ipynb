{
 "cells": [
  {
   "cell_type": "code",
   "execution_count": null,
   "metadata": {},
   "outputs": [],
   "source": [
    "# reaning localtion_files\n",
    "#reaing columns name \n",
    "columns = pd.read_csv(\"data\\data_dictionary - Sheet1.csv\",usecols=[\"Field\"] )\n",
    "#reading dataset\n",
    "df=pd.read_csv('data/open_pubs.csv', names = columns.Field)\n",
    "#replacing '\\N' with null value\n",
    "df=df.replace('\\\\N',np.NaN)\n",
    "#removing null value rows\n",
    "df=df.dropna()\n",
    "\n",
    "df.to_csv(\"data/use_full.csv\", index=False)\n",
    "import streamlit as st"
   ]
  }
 ],
 "metadata": {
  "language_info": {
   "name": "python"
  },
  "orig_nbformat": 4
 },
 "nbformat": 4,
 "nbformat_minor": 2
}
